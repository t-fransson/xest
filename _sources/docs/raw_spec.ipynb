{
 "cells": [
  {
   "cell_type": "markdown",
   "metadata": {},
   "source": [
    "# Isolating inelastic signal\n",
    "\n",
    "- Task: histogram and find signal\n",
    "\t- histogram\n",
    "\t- img\n",
    "\t- spatial projection\n",
    "\t- energy-dispersive projection\n",
    "\n",
    "## Isolating inelastic signal\n",
    "\n",
    "foo\n",
    "\n",
    "## Image of elastic, inelastic, and artifact signal\n",
    "\n",
    "bar\n",
    "\n",
    "## Finding region-of-interest (ROI)\n",
    "\n",
    "foobar\n"
   ]
  },
  {
   "cell_type": "code",
   "execution_count": null,
   "metadata": {},
   "outputs": [],
   "source": [
    "# short explicit example"
   ]
  },
  {
   "cell_type": "code",
   "execution_count": null,
   "metadata": {},
   "outputs": [],
   "source": [
    "# print corresponding\n",
    "xest.function?"
   ]
  },
  {
   "cell_type": "code",
   "execution_count": null,
   "metadata": {},
   "outputs": [],
   "source": [
    "# use actual function"
   ]
  }
 ],
 "metadata": {
  "kernelspec": {
   "display_name": "Python 3",
   "language": "python",
   "name": "python3"
  },
  "language_info": {
   "codemirror_mode": {
    "name": "ipython",
    "version": 3
   },
   "file_extension": ".py",
   "mimetype": "text/x-python",
   "name": "python",
   "nbconvert_exporter": "python",
   "pygments_lexer": "ipython3",
   "version": "3.7.9"
  }
 },
 "nbformat": 4,
 "nbformat_minor": 4
}
