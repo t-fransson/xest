{
 "cells": [
  {
   "cell_type": "markdown",
   "metadata": {},
   "source": [
    "# Smoothing and curve fitting\n",
    "\n",
    "Note that smoothing and curve fitting should be done with care. Makes things look nicer, but can miss actual observables. Check residuals and the like."
   ]
  },
  {
   "cell_type": "markdown",
   "metadata": {},
   "source": [
    "## Smoothing of spectra\n",
    "\n",
    "Illustrate different smoothing schemes, plotting:\n",
    "\n",
    "1. 0F spectra: raw, smooth, residual\n",
    "\n",
    "2. 0F - 2F: raw, smooth, residual\n",
    "\n",
    "Can print the integral of the residual, as an illustration of the approximate error (note that this is a rough measure). Can also use the standard deviation of the residual vector(?)\n",
    "\n",
    "\n",
    "### Binning\n",
    "\n",
    "Just bin to lower resolution.\n",
    "\n",
    "\n",
    "### Spline\n",
    "\n",
    "Spline raw can introduce articifial oscillations, and is not that suitable for illustrations. Binning and then splining can produce better results.\n",
    "\n",
    "\n",
    "### Rectangular / box / unweighted sliding-average smooth\n",
    "    \n",
    "Example: 3-point\n",
    "\\begin{equation}\n",
    "Y_i = \\frac{\\sum Y_{i-1}+ Y_{i}+ Y_{i+1}}{3}\n",
    "\\end{equation}\n",
    "\n",
    "\n",
    "### Weighted triangular smooth\n",
    "    \n",
    "Example: 5-point\n",
    "\\begin{equation}\n",
    "Y_i = \\frac{\\sum Y_{i-2}+2Y_{i-1}+ 3Y_{i}+ 2Y_{i+1}+ Y_{i+2}}{13}\n",
    "\\end{equation}\n",
    "\n",
    "For example, the 5-point triangular smooth above is equivalent to two passes of a 3-point rectangular smooth.\n",
    "\n",
    "In all these smooths, the width of the smooth m is chosen to be an odd integer, so that the smooth coefficients are symmetrically balanced around the central point, which is important because it preserves the x-axis position of peaks and other features in the smoothed signal.\n",
    "\n",
    "Note that we are assuming here that the x-axis intervals of the signal is uniform, that is, that the difference between the x-axis values of adjacent points is the same throughout the signal. This is technically not the case here, but the variation within a small number of pixels is small enough for the present purpose.\n",
    "\n",
    "### Savitzky-Golay\n",
    "\n",
    "The Savitzky-Golay smooth is based on the least-squares fitting of polynomials to segments of the data. Compared to the sliding-average smooths of the same width, the Savitzky-Golay smooth is less effective at reducing noise, but more effective at retaining the shape of the original signal.\n",
    "\n",
    "- Illustrate different smoothing widths\n"
   ]
  },
  {
   "cell_type": "markdown",
   "metadata": {},
   "source": [
    "## Curve fitting\n",
    "\n",
    "### Profiles: Lorentzian, Gaussian, Voigt\n",
    "\n",
    "\n",
    "### Broadening of experimental spectrum"
   ]
  }
 ],
 "metadata": {
  "celltoolbar": "Tags",
  "kernelspec": {
   "display_name": "Python 3",
   "language": "python",
   "name": "python3"
  },
  "language_info": {
   "codemirror_mode": {
    "name": "ipython",
    "version": 3
   },
   "file_extension": ".py",
   "mimetype": "text/x-python",
   "name": "python",
   "nbconvert_exporter": "python",
   "pygments_lexer": "ipython3",
   "version": "3.7.9"
  }
 },
 "nbformat": 4,
 "nbformat_minor": 4
}
